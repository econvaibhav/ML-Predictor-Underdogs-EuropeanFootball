{
  "nbformat": 4,
  "nbformat_minor": 0,
  "metadata": {
    "colab": {
      "provenance": []
    },
    "kernelspec": {
      "name": "python3",
      "display_name": "Python 3"
    },
    "language_info": {
      "name": "python"
    }
  },
  "cells": [
    {
      "cell_type": "code",
      "source": [
        "from google.colab import files\n",
        "import io\n",
        "import pandas as pd\n",
        "\n",
        "\n",
        "data = files.upload()\n",
        "\n",
        "\n",
        "filename = next(iter(data))\n",
        "file_content = data[filename]\n",
        "\n",
        "\n",
        "data = pd.read_csv(io.BytesIO(file_content))\n"
      ],
      "metadata": {
        "colab": {
          "base_uri": "https://localhost:8080/",
          "height": 73
        },
        "id": "tMNATu-DYLub",
        "outputId": "046d7da3-1fd1-4d02-b5b2-b26bbd4628f9"
      },
      "execution_count": null,
      "outputs": [
        {
          "output_type": "display_data",
          "data": {
            "text/plain": [
              "<IPython.core.display.HTML object>"
            ],
            "text/html": [
              "\n",
              "     <input type=\"file\" id=\"files-aae65a3f-e55d-42c7-95c9-7cfbf99a7d14\" name=\"files[]\" multiple disabled\n",
              "        style=\"border:none\" />\n",
              "     <output id=\"result-aae65a3f-e55d-42c7-95c9-7cfbf99a7d14\">\n",
              "      Upload widget is only available when the cell has been executed in the\n",
              "      current browser session. Please rerun this cell to enable.\n",
              "      </output>\n",
              "      <script>// Copyright 2017 Google LLC\n",
              "//\n",
              "// Licensed under the Apache License, Version 2.0 (the \"License\");\n",
              "// you may not use this file except in compliance with the License.\n",
              "// You may obtain a copy of the License at\n",
              "//\n",
              "//      http://www.apache.org/licenses/LICENSE-2.0\n",
              "//\n",
              "// Unless required by applicable law or agreed to in writing, software\n",
              "// distributed under the License is distributed on an \"AS IS\" BASIS,\n",
              "// WITHOUT WARRANTIES OR CONDITIONS OF ANY KIND, either express or implied.\n",
              "// See the License for the specific language governing permissions and\n",
              "// limitations under the License.\n",
              "\n",
              "/**\n",
              " * @fileoverview Helpers for google.colab Python module.\n",
              " */\n",
              "(function(scope) {\n",
              "function span(text, styleAttributes = {}) {\n",
              "  const element = document.createElement('span');\n",
              "  element.textContent = text;\n",
              "  for (const key of Object.keys(styleAttributes)) {\n",
              "    element.style[key] = styleAttributes[key];\n",
              "  }\n",
              "  return element;\n",
              "}\n",
              "\n",
              "// Max number of bytes which will be uploaded at a time.\n",
              "const MAX_PAYLOAD_SIZE = 100 * 1024;\n",
              "\n",
              "function _uploadFiles(inputId, outputId) {\n",
              "  const steps = uploadFilesStep(inputId, outputId);\n",
              "  const outputElement = document.getElementById(outputId);\n",
              "  // Cache steps on the outputElement to make it available for the next call\n",
              "  // to uploadFilesContinue from Python.\n",
              "  outputElement.steps = steps;\n",
              "\n",
              "  return _uploadFilesContinue(outputId);\n",
              "}\n",
              "\n",
              "// This is roughly an async generator (not supported in the browser yet),\n",
              "// where there are multiple asynchronous steps and the Python side is going\n",
              "// to poll for completion of each step.\n",
              "// This uses a Promise to block the python side on completion of each step,\n",
              "// then passes the result of the previous step as the input to the next step.\n",
              "function _uploadFilesContinue(outputId) {\n",
              "  const outputElement = document.getElementById(outputId);\n",
              "  const steps = outputElement.steps;\n",
              "\n",
              "  const next = steps.next(outputElement.lastPromiseValue);\n",
              "  return Promise.resolve(next.value.promise).then((value) => {\n",
              "    // Cache the last promise value to make it available to the next\n",
              "    // step of the generator.\n",
              "    outputElement.lastPromiseValue = value;\n",
              "    return next.value.response;\n",
              "  });\n",
              "}\n",
              "\n",
              "/**\n",
              " * Generator function which is called between each async step of the upload\n",
              " * process.\n",
              " * @param {string} inputId Element ID of the input file picker element.\n",
              " * @param {string} outputId Element ID of the output display.\n",
              " * @return {!Iterable<!Object>} Iterable of next steps.\n",
              " */\n",
              "function* uploadFilesStep(inputId, outputId) {\n",
              "  const inputElement = document.getElementById(inputId);\n",
              "  inputElement.disabled = false;\n",
              "\n",
              "  const outputElement = document.getElementById(outputId);\n",
              "  outputElement.innerHTML = '';\n",
              "\n",
              "  const pickedPromise = new Promise((resolve) => {\n",
              "    inputElement.addEventListener('change', (e) => {\n",
              "      resolve(e.target.files);\n",
              "    });\n",
              "  });\n",
              "\n",
              "  const cancel = document.createElement('button');\n",
              "  inputElement.parentElement.appendChild(cancel);\n",
              "  cancel.textContent = 'Cancel upload';\n",
              "  const cancelPromise = new Promise((resolve) => {\n",
              "    cancel.onclick = () => {\n",
              "      resolve(null);\n",
              "    };\n",
              "  });\n",
              "\n",
              "  // Wait for the user to pick the files.\n",
              "  const files = yield {\n",
              "    promise: Promise.race([pickedPromise, cancelPromise]),\n",
              "    response: {\n",
              "      action: 'starting',\n",
              "    }\n",
              "  };\n",
              "\n",
              "  cancel.remove();\n",
              "\n",
              "  // Disable the input element since further picks are not allowed.\n",
              "  inputElement.disabled = true;\n",
              "\n",
              "  if (!files) {\n",
              "    return {\n",
              "      response: {\n",
              "        action: 'complete',\n",
              "      }\n",
              "    };\n",
              "  }\n",
              "\n",
              "  for (const file of files) {\n",
              "    const li = document.createElement('li');\n",
              "    li.append(span(file.name, {fontWeight: 'bold'}));\n",
              "    li.append(span(\n",
              "        `(${file.type || 'n/a'}) - ${file.size} bytes, ` +\n",
              "        `last modified: ${\n",
              "            file.lastModifiedDate ? file.lastModifiedDate.toLocaleDateString() :\n",
              "                                    'n/a'} - `));\n",
              "    const percent = span('0% done');\n",
              "    li.appendChild(percent);\n",
              "\n",
              "    outputElement.appendChild(li);\n",
              "\n",
              "    const fileDataPromise = new Promise((resolve) => {\n",
              "      const reader = new FileReader();\n",
              "      reader.onload = (e) => {\n",
              "        resolve(e.target.result);\n",
              "      };\n",
              "      reader.readAsArrayBuffer(file);\n",
              "    });\n",
              "    // Wait for the data to be ready.\n",
              "    let fileData = yield {\n",
              "      promise: fileDataPromise,\n",
              "      response: {\n",
              "        action: 'continue',\n",
              "      }\n",
              "    };\n",
              "\n",
              "    // Use a chunked sending to avoid message size limits. See b/62115660.\n",
              "    let position = 0;\n",
              "    do {\n",
              "      const length = Math.min(fileData.byteLength - position, MAX_PAYLOAD_SIZE);\n",
              "      const chunk = new Uint8Array(fileData, position, length);\n",
              "      position += length;\n",
              "\n",
              "      const base64 = btoa(String.fromCharCode.apply(null, chunk));\n",
              "      yield {\n",
              "        response: {\n",
              "          action: 'append',\n",
              "          file: file.name,\n",
              "          data: base64,\n",
              "        },\n",
              "      };\n",
              "\n",
              "      let percentDone = fileData.byteLength === 0 ?\n",
              "          100 :\n",
              "          Math.round((position / fileData.byteLength) * 100);\n",
              "      percent.textContent = `${percentDone}% done`;\n",
              "\n",
              "    } while (position < fileData.byteLength);\n",
              "  }\n",
              "\n",
              "  // All done.\n",
              "  yield {\n",
              "    response: {\n",
              "      action: 'complete',\n",
              "    }\n",
              "  };\n",
              "}\n",
              "\n",
              "scope.google = scope.google || {};\n",
              "scope.google.colab = scope.google.colab || {};\n",
              "scope.google.colab._files = {\n",
              "  _uploadFiles,\n",
              "  _uploadFilesContinue,\n",
              "};\n",
              "})(self);\n",
              "</script> "
            ]
          },
          "metadata": {}
        },
        {
          "output_type": "stream",
          "name": "stdout",
          "text": [
            "Saving pre_model_data.csv to pre_model_data.csv\n"
          ]
        }
      ]
    },
    {
      "cell_type": "code",
      "source": [
        "\n",
        "missing_data = data.isnull().sum()\n",
        "\n",
        "\n",
        "data_types = data.dtypes\n",
        "\n",
        "missing_data, data_types\n"
      ],
      "metadata": {
        "colab": {
          "base_uri": "https://localhost:8080/"
        },
        "id": "GJn4_3kDjbml",
        "outputId": "b799a49b-2eb4-4f00-eb49-ce4294679c2d"
      },
      "execution_count": null,
      "outputs": [
        {
          "output_type": "execute_result",
          "data": {
            "text/plain": [
              "(player_id                   0\n",
              " Year                        0\n",
              " matches_appearances         0\n",
              " yellow_permatch             0\n",
              " red_permatch                0\n",
              " goals_permatch              0\n",
              " assists_permatch            0\n",
              " min_permatch                0\n",
              " name                        0\n",
              " country_of_birth          479\n",
              " country_of_citizenship    424\n",
              " city_of_birth              55\n",
              " Year_birth                  0\n",
              " position                    0\n",
              " foot                        6\n",
              " height_in_cm                6\n",
              " mat                         0\n",
              " win_percentage              0\n",
              " major_league                0\n",
              " Age                         0\n",
              " market_value_in_eur         0\n",
              " value_increase              0\n",
              " matches                     0\n",
              " club_changed                0\n",
              " type_ratio                  0\n",
              " ever_captain                0\n",
              " dtype: int64,\n",
              " player_id                   int64\n",
              " Year                        int64\n",
              " matches_appearances         int64\n",
              " yellow_permatch           float64\n",
              " red_permatch              float64\n",
              " goals_permatch            float64\n",
              " assists_permatch          float64\n",
              " min_permatch              float64\n",
              " name                       object\n",
              " country_of_birth           object\n",
              " country_of_citizenship     object\n",
              " city_of_birth              object\n",
              " Year_birth                  int64\n",
              " position                   object\n",
              " foot                       object\n",
              " height_in_cm              float64\n",
              " mat                         int64\n",
              " win_percentage            float64\n",
              " major_league                int64\n",
              " Age                         int64\n",
              " market_value_in_eur         int64\n",
              " value_increase              int64\n",
              " matches                     int64\n",
              " club_changed                int64\n",
              " type_ratio                float64\n",
              " ever_captain                int64\n",
              " dtype: object)"
            ]
          },
          "metadata": {},
          "execution_count": 4
        }
      ]
    },
    {
      "cell_type": "code",
      "source": [
        "\n",
        "data.fillna({'country_of_birth': 'Unknown', 'country_of_citizenship': 'Unknown', 'city_of_birth': 'Unknown'}, inplace=True)\n",
        "\n",
        "\n",
        "data_encoded = pd.get_dummies(data, columns=['name', 'country_of_birth', 'country_of_citizenship', 'city_of_birth', 'position', 'foot'])\n",
        "\n",
        "\n",
        "data_encoded.shape, data_encoded.columns\n"
      ],
      "metadata": {
        "colab": {
          "base_uri": "https://localhost:8080/"
        },
        "id": "x89-c31BoeP9",
        "outputId": "e06697eb-2633-446b-8f97-4e8c164a468b"
      },
      "execution_count": null,
      "outputs": [
        {
          "output_type": "execute_result",
          "data": {
            "text/plain": [
              "((11587, 2700),\n",
              " Index(['player_id', 'Year', 'matches_appearances', 'yellow_permatch',\n",
              "        'red_permatch', 'goals_permatch', 'assists_permatch', 'min_permatch',\n",
              "        'Year_birth', 'height_in_cm',\n",
              "        ...\n",
              "        'city_of_birth_Żnin', 'city_of_birth_Žiar nad Hronom',\n",
              "        'city_of_birth_Žilina', 'position_Attack', 'position_Defender',\n",
              "        'position_Goalkeeper', 'position_Midfield', 'foot_both', 'foot_left',\n",
              "        'foot_right'],\n",
              "       dtype='object', length=2700))"
            ]
          },
          "metadata": {},
          "execution_count": 5
        }
      ]
    },
    {
      "cell_type": "code",
      "source": [
        "\n",
        "data_encoded.sort_values(by=['player_id', 'Year'], inplace=True)\n",
        "\n",
        "\n",
        "data_encoded['market_value_change'] = data_encoded.groupby('player_id')['market_value_in_eur'].diff()\n",
        "\n",
        "data_encoded['market_value_trend'] = pd.cut(data_encoded['market_value_change'],\n",
        "                                            bins=[-float('inf'), -1, 1, float('inf')],\n",
        "                                            labels=['Fall', 'Same', 'Rise'])\n",
        "\n",
        "data_encoded.dropna(subset=['market_value_trend'], inplace=True)\n",
        "\n",
        "data_encoded['market_value_trend'].value_counts()\n"
      ],
      "metadata": {
        "colab": {
          "base_uri": "https://localhost:8080/"
        },
        "id": "C0ft3ODAojAt",
        "outputId": "8e5f0c59-fee4-4564-99ef-4a7f07c49207"
      },
      "execution_count": null,
      "outputs": [
        {
          "output_type": "execute_result",
          "data": {
            "text/plain": [
              "market_value_trend\n",
              "Fall    5249\n",
              "Rise    3543\n",
              "Same    1332\n",
              "Name: count, dtype: int64"
            ]
          },
          "metadata": {},
          "execution_count": 6
        }
      ]
    },
    {
      "cell_type": "code",
      "source": [
        "from sklearn.preprocessing import StandardScaler\n",
        "from sklearn.model_selection import train_test_split\n",
        "\n",
        "X = data_encoded.drop(['player_id', 'Year', 'market_value_in_eur', 'market_value_change', 'market_value_trend'], axis=1)\n",
        "y = data_encoded['market_value_trend']\n",
        "\n",
        "scaler = StandardScaler()\n",
        "X_scaled = scaler.fit_transform(X)\n",
        "\n",
        "X_train, X_test, y_train, y_test = train_test_split(X_scaled, y, test_size=0.2, random_state=42, stratify=y)\n",
        "\n",
        "X_train.shape, X_test.shape, y_train.shape, y_test.shape\n"
      ],
      "metadata": {
        "colab": {
          "base_uri": "https://localhost:8080/"
        },
        "id": "RwQInZwuon8T",
        "outputId": "c533d3f7-bba5-4ecd-ed8e-d6d433f341ef"
      },
      "execution_count": null,
      "outputs": [
        {
          "output_type": "execute_result",
          "data": {
            "text/plain": [
              "((8099, 2697), (2025, 2697), (8099,), (2025,))"
            ]
          },
          "metadata": {},
          "execution_count": 7
        }
      ]
    },
    {
      "cell_type": "code",
      "source": [
        "from sklearn.metrics import classification_report\n",
        "\n",
        "data_encoded_clean = data_encoded.dropna()\n",
        "\n",
        "X_clean = data_encoded_clean.drop(['player_id', 'Year', 'market_value_in_eur', 'market_value_change', 'market_value_trend'], axis=1)\n",
        "y_clean = data_encoded_clean['market_value_trend']\n",
        "\n",
        "X_clean_scaled = scaler.fit_transform(X_clean)\n",
        "\n",
        "X_train_clean, X_test_clean, y_train_clean, y_test_clean = train_test_split(X_clean_scaled, y_clean, test_size=0.2, random_state=42, stratify=y_clean)\n",
        "\n",
        "from sklearn.svm import SVC\n",
        "\n",
        "svm_model_clean = SVC(kernel='linear', probability=True, random_state=42)\n",
        "svm_model_clean.fit(X_train_clean, y_train_clean)\n",
        "\n",
        "y_pred_clean = svm_model_clean.predict(X_test_clean)\n",
        "report_clean = classification_report(y_test_clean, y_pred_clean)\n",
        "\n",
        "print(report_clean)\n"
      ],
      "metadata": {
        "colab": {
          "base_uri": "https://localhost:8080/"
        },
        "id": "DSN9h1FFqPQh",
        "outputId": "fa4d0de8-e6c1-4d1e-ff3a-61eaf136814c"
      },
      "execution_count": null,
      "outputs": [
        {
          "output_type": "stream",
          "name": "stdout",
          "text": [
            "              precision    recall  f1-score   support\n",
            "\n",
            "        Fall       0.82      0.89      0.85      1050\n",
            "        Rise       1.00      1.00      1.00       708\n",
            "        Same       0.33      0.22      0.26       266\n",
            "\n",
            "    accuracy                           0.84      2024\n",
            "   macro avg       0.72      0.70      0.70      2024\n",
            "weighted avg       0.82      0.84      0.83      2024\n",
            "\n"
          ]
        }
      ]
    },
    {
      "cell_type": "code",
      "source": [
        "import pandas as pd\n",
        "from sklearn.metrics import classification_report\n",
        "\n",
        "report_clean = classification_report(y_test_clean, y_pred_clean, output_dict=True)\n",
        "df_report = pd.DataFrame(report_clean).transpose()\n",
        "\n",
        "print(df_report)\n"
      ],
      "metadata": {
        "colab": {
          "base_uri": "https://localhost:8080/"
        },
        "id": "X70L3gjaaC-1",
        "outputId": "1f5cdb0b-b7c6-4560-d83d-f15e4fe4156f"
      },
      "execution_count": null,
      "outputs": [
        {
          "output_type": "stream",
          "name": "stdout",
          "text": [
            "              precision    recall  f1-score      support\n",
            "Fall           0.817704  0.888571  0.851666  1050.000000\n",
            "Rise           1.000000  1.000000  1.000000   708.000000\n",
            "Same           0.331429  0.218045  0.263039   266.000000\n",
            "accuracy       0.839427  0.839427  0.839427     0.839427\n",
            "macro avg      0.716377  0.702206  0.704901  2024.000000\n",
            "weighted avg   0.817564  0.839427  0.826194  2024.000000\n"
          ]
        }
      ]
    },
    {
      "cell_type": "code",
      "source": [
        "import matplotlib.pyplot as plt\n",
        "from sklearn.metrics import confusion_matrix, ConfusionMatrixDisplay\n",
        "\n",
        "cm = confusion_matrix(y_test_clean, y_pred_clean, labels=svm_model_clean.classes_)\n",
        "disp = ConfusionMatrixDisplay(confusion_matrix=cm, display_labels=svm_model_clean.classes_)\n",
        "\n",
        "disp.plot(cmap='Blues')\n",
        "plt.title('Confusion Matrix for SVM Model')\n",
        "plt.show()\n"
      ],
      "metadata": {
        "colab": {
          "base_uri": "https://localhost:8080/",
          "height": 472
        },
        "id": "g_H_PFlYRv8v",
        "outputId": "de3d2e21-dd49-4255-b270-703e62777cba"
      },
      "execution_count": null,
      "outputs": [
        {
          "output_type": "display_data",
          "data": {
            "text/plain": [
              "<Figure size 640x480 with 2 Axes>"
            ],
            "image/png": "[encoded data removed]"
          },
          "metadata": {}
        }
      ]
    },
    {
      "cell_type": "code",
      "source": [
        "from sklearn.ensemble import RandomForestClassifier\n",
        "from sklearn.preprocessing import StandardScaler\n",
        "from sklearn.model_selection import train_test_split\n",
        "from sklearn.impute import SimpleImputer\n",
        "import matplotlib.pyplot as plt\n",
        "import numpy as np\n",
        "\n",
        "X_train, X_test, y_train, y_test = train_test_split(X_scaled, y, test_size=0.2, stratify=y)\n",
        "\n",
        "imputer = SimpleImputer(strategy='median')\n",
        "X_train_imputed = imputer.fit_transform(X_train)\n",
        "X_test_imputed = imputer.transform(X_test)\n",
        "\n",
        "forest = RandomForestClassifier(n_estimators=100, random_state=42)\n",
        "forest.fit(X_train_imputed, y_train)\n",
        "\n",
        "importances = forest.feature_importances_\n",
        "indices = np.argsort(importances)[::-1]\n",
        "names = [data_encoded.columns[i] for i in indices[:10]]\n",
        "\n",
        "plt.figure(figsize=(10, 5))\n",
        "plt.title('Top 10 Feature Importances')\n",
        "plt.bar(range(10), importances[indices][:10])\n",
        "plt.xticks(range(10), names, rotation=45, ha='right')\n",
        "plt.show()\n",
        "\n"
      ],
      "metadata": {
        "colab": {
          "base_uri": "https://localhost:8080/",
          "height": 549
        },
        "id": "zljI1ogOUANi",
        "outputId": "b9efdd86-fe20-4cc5-9b00-4d9531cfaf91"
      },
      "execution_count": null,
      "outputs": [
        {
          "output_type": "display_data",
          "data": {
            "text/plain": [
              "<Figure size 1000x500 with 1 Axes>"
            ],
            "image/png": "[encoded data removed]"
          },
          "metadata": {}
        }
      ]
    },
    {
      "cell_type": "code",
      "source": [
        "from google.colab import drive\n",
        "drive.mount('/content/drive')\n",
        "\n"
      ],
      "metadata": {
        "colab": {
          "base_uri": "https://localhost:8080/"
        },
        "id": "h9IWoZHaT_87",
        "outputId": "22fc05d3-7c1e-4498-b64d-4ff715c16029"
      },
      "execution_count": null,
      "outputs": [
        {
          "output_type": "stream",
          "name": "stdout",
          "text": [
            "Drive already mounted at /content/drive; to attempt to forcibly remount, call drive.mount(\"/content/drive\", force_remount=True).\n"
          ]
        }
      ]
    },
    {
      "cell_type": "code",
      "source": [
        "model.save('/content/drive/MyDrive/Colab Notebooks/SVM_football.keras')"
      ],
      "metadata": {
        "colab": {
          "base_uri": "https://localhost:8080/",
          "height": 141
        },
        "id": "5r5n0ILmjgMF",
        "outputId": "5a2a48b4-d11f-4ce7-fd18-616683e3a6b3"
      },
      "execution_count": null,
      "outputs": [
        {
          "output_type": "error",
          "ename": "NameError",
          "evalue": "name 'model' is not defined",
          "traceback": [
            "\u001b[0;31m---------------------------------------------------------------------------\u001b[0m",
            "\u001b[0;31mNameError\u001b[0m                                 Traceback (most recent call last)",
            "\u001b[0;32m<ipython-input-30-3bb5172e899a>\u001b[0m in \u001b[0;36m<cell line: 1>\u001b[0;34m()\u001b[0m\n\u001b[0;32m----> 1\u001b[0;31m \u001b[0mmodel\u001b[0m\u001b[0;34m.\u001b[0m\u001b[0msave\u001b[0m\u001b[0;34m(\u001b[0m\u001b[0;34m'/content/drive/MyDrive/Colab Notebooks/SVM_football.keras'\u001b[0m\u001b[0;34m)\u001b[0m\u001b[0;34m\u001b[0m\u001b[0;34m\u001b[0m\u001b[0m\n\u001b[0m",
            "\u001b[0;31mNameError\u001b[0m: name 'model' is not defined"
          ]
        }
      ]
    },
    {
      "cell_type": "code",
      "source": [
        "from tensorflow.keras.models import load_model\n",
        "\n",
        "# Load the model\n",
        "model = load_model(/content/drive/MyDrive/Colab Notebooks/SVM_football.keras)"
      ],
      "metadata": {
        "id": "IK0jovLrU1-k"
      },
      "execution_count": null,
      "outputs": []
    }
  ]
}